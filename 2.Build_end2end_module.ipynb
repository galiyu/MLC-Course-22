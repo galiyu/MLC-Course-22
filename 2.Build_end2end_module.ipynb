{
  "cells": [
    {
      "cell_type": "markdown",
      "metadata": {
        "id": "gMu9UtC71BQj"
      },
      "source": [
        "本例中使用了还在开发中的relax，如果环境中已经安装配置了tvm，可能会发生冲突，建议到google colab中执行\n",
        "<a href=\"https://colab.research.google.com/drive/1vOt77ugt1AhmhufUyw-bW8emIwh0fXqN#scrollTo=PW18qc_faMIC\" target=\"_parent\"><img src=\"https://colab.research.google.com/assets/colab-badge.svg\" alt=\"Open In Colab\"/></a>"
      ]
    },
    {
      "cell_type": "markdown",
      "metadata": {
        "id": "mn6n9P2IlNQP"
      },
      "source": [
        "# 端到端模型执行\n",
        "\n",
        "- 关注元张量函数，讨论如何构建端到端模型\n"
      ]
    },
    {
      "cell_type": "markdown",
      "metadata": {
        "id": "H_f4_c9gl_pp"
      },
      "source": [
        "## 环境，数据集及模型参数准备"
      ]
    },
    {
      "cell_type": "code",
      "execution_count": 16,
      "metadata": {
        "colab": {
          "base_uri": "https://localhost:8080/"
        },
        "id": "3UGJvwypkwKC",
        "outputId": "bc505b2a-86be-4159-bc19-68c86c61bd51"
      },
      "outputs": [
        {
          "name": "stdout",
          "output_type": "stream",
          "text": [
            "Looking in indexes: https://pypi.org/simple, https://us-python.pkg.dev/colab-wheels/public/simple/\n",
            "Looking in links: https://mlc.ai/wheels\n",
            "Requirement already satisfied: mlc-ai-nightly in /usr/local/lib/python3.7/dist-packages (0.9.dev2226+gf68b7661e)\n",
            "Requirement already satisfied: decorator in /usr/local/lib/python3.7/dist-packages (from mlc-ai-nightly) (4.4.2)\n",
            "Requirement already satisfied: numpy in /usr/local/lib/python3.7/dist-packages (from mlc-ai-nightly) (1.21.6)\n",
            "Requirement already satisfied: tornado in /usr/local/lib/python3.7/dist-packages (from mlc-ai-nightly) (5.1.1)\n",
            "Requirement already satisfied: scipy in /usr/local/lib/python3.7/dist-packages (from mlc-ai-nightly) (1.7.3)\n",
            "Requirement already satisfied: cloudpickle in /usr/local/lib/python3.7/dist-packages (from mlc-ai-nightly) (1.5.0)\n",
            "Requirement already satisfied: synr==0.6.0 in /usr/local/lib/python3.7/dist-packages (from mlc-ai-nightly) (0.6.0)\n",
            "Requirement already satisfied: attrs in /usr/local/lib/python3.7/dist-packages (from mlc-ai-nightly) (22.1.0)\n",
            "Requirement already satisfied: psutil in /usr/local/lib/python3.7/dist-packages (from mlc-ai-nightly) (5.4.8)\n"
          ]
        }
      ],
      "source": [
        "!python3 -m  pip install mlc-ai-nightly -f https://mlc.ai/wheels"
      ]
    },
    {
      "cell_type": "code",
      "execution_count": 17,
      "metadata": {
        "id": "xZMaAuz7lEjQ"
      },
      "outputs": [],
      "source": [
        "# This is needed for deferring annotation parsing in TVMScript\n",
        "from __future__ import annotations\n",
        "import IPython\n",
        "import numpy as np\n",
        "import tvm\n",
        "from tvm import relax\n",
        "from tvm.ir.module import IRModule\n",
        "from tvm.script import relax as R\n",
        "from tvm.script import tir as T"
      ]
    },
    {
      "cell_type": "code",
      "execution_count": 18,
      "metadata": {
        "id": "T8yRGyvJlWml"
      },
      "outputs": [],
      "source": [
        "# 加载数据集\n",
        "# 使用fashion MNIST数据集上的一个模型 \n",
        "# 以下代码从 torchvision 下载并准备数据并转换成NumPy数组。\n",
        "import torch\n",
        "import torchvision\n",
        "\n",
        "test_data = torchvision.datasets.FashionMNIST(\n",
        "    root=\"data\",\n",
        "    train=False,\n",
        "    download=True,\n",
        "    transform=torchvision.transforms.ToTensor()\n",
        ")\n",
        "test_loader = torch.utils.data.DataLoader(test_data, batch_size=1, shuffle=True)\n",
        "class_names = ['T-shirt/top', 'Trouser', 'Pullover', 'Dress', 'Coat',\n",
        "               'Sandal', 'Shirt', 'Sneaker', 'Bag', 'Ankle boot']\n",
        "\n",
        "img, label = next(iter(test_loader))\n",
        "img = img.reshape(1, 28, 28).numpy()"
      ]
    },
    {
      "cell_type": "code",
      "execution_count": 19,
      "metadata": {
        "colab": {
          "base_uri": "https://localhost:8080/",
          "height": 287
        },
        "id": "i6oIe5-9ltfk",
        "outputId": "e3262d64-eec4-4bba-9b5d-5784cb59b193"
      },
      "outputs": [
        {
          "data": {
            "image/png": "[encoded data removed]",
            "text/plain": [
              "<Figure size 432x288 with 2 Axes>"
            ]
          },
          "metadata": {
            "needs_background": "light"
          },
          "output_type": "display_data"
        },
        {
          "name": "stdout",
          "output_type": "stream",
          "text": [
            "Class: Sneaker\n"
          ]
        }
      ],
      "source": [
        "# 绘制我们希望能预测的图像\n",
        "import matplotlib.pyplot as plt\n",
        "\n",
        "plt.figure()\n",
        "plt.imshow(img[0])\n",
        "plt.colorbar()\n",
        "plt.grid(False)\n",
        "plt.show()\n",
        "print(\"Class:\", class_names[label[0]])"
      ]
    },
    {
      "cell_type": "code",
      "execution_count": 20,
      "metadata": {
        "colab": {
          "base_uri": "https://localhost:8080/"
        },
        "id": "PgkkuxRVl3Fk",
        "outputId": "757efab2-7b1b-4506-cffe-7103d625147b"
      },
      "outputs": [
        {
          "name": "stdout",
          "output_type": "stream",
          "text": [
            "--2022-08-23 10:13:58--  https://github.com/mlc-ai/web-data/raw/main/models/fasionmnist_mlp_params.pkl\n",
            "Resolving github.com (github.com)... 140.82.114.4\n",
            "Connecting to github.com (github.com)|140.82.114.4|:443... connected.\n",
            "HTTP request sent, awaiting response... 302 Found\n",
            "Location: https://raw.githubusercontent.com/mlc-ai/web-data/main/models/fasionmnist_mlp_params.pkl [following]\n",
            "--2022-08-23 10:13:58--  https://raw.githubusercontent.com/mlc-ai/web-data/main/models/fasionmnist_mlp_params.pkl\n",
            "Resolving raw.githubusercontent.com (raw.githubusercontent.com)... 185.199.109.133, 185.199.108.133, 185.199.111.133, ...\n",
            "Connecting to raw.githubusercontent.com (raw.githubusercontent.com)|185.199.109.133|:443... connected.\n",
            "HTTP request sent, awaiting response... 200 OK\n",
            "Length: 407396 (398K) [application/octet-stream]\n",
            "Saving to: ‘fasionmnist_mlp_params.pkl.1’\n",
            "\n",
            "fasionmnist_mlp_par 100%[===================>] 397.85K  --.-KB/s    in 0.04s   \n",
            "\n",
            "2022-08-23 10:13:59 (10.8 MB/s) - ‘fasionmnist_mlp_params.pkl.1’ saved [407396/407396]\n",
            "\n"
          ]
        }
      ],
      "source": [
        "# 下载模型参数\n",
        "# Hide outputs\n",
        "!wget https://github.com/mlc-ai/web-data/raw/main/models/fasionmnist_mlp_params.pkl"
      ]
    },
    {
      "cell_type": "markdown",
      "metadata": {
        "id": "GPS1VfL4mHpc"
      },
      "source": [
        "## 端到端模型整合\n",
        "\n",
        "例子：一个两层神经网络，由两个全连接层和一个有 relu 激活层组成。为了简化问题，我们删除了最终的 softmax 层。输出分数是未标准化的，但最大值仍然对应于最可能的类别。\n"
      ]
    },
    {
      "cell_type": "code",
      "execution_count": 21,
      "metadata": {
        "colab": {
          "base_uri": "https://localhost:8080/"
        },
        "id": "U_4xHrQDmK35",
        "outputId": "a3a288c3-a3cf-40ee-93f9-95d6342e1a8d"
      },
      "outputs": [
        {
          "name": "stdout",
          "output_type": "stream",
          "text": [
            "[[-18.002035  -26.690979  -14.855994  -17.64491   -21.919956   -3.1951513\n",
            "  -18.476469   17.237576   -0.7316637 -11.115718 ]]\n",
            "[7]\n",
            "NumPy-MLP Prediction: Sneaker\n"
          ]
        }
      ],
      "source": [
        "# 1.numpy实现\n",
        "def numpy_mlp(data, w0, b0, w1, b1):\n",
        "    lv0 = data @ w0.T + b0\n",
        "    lv1 = np.maximum(lv0, 0)\n",
        "    lv2 = lv1 @ w1.T + b1\n",
        "    return lv2\n",
        "\n",
        "import pickle as pkl\n",
        "\n",
        "mlp_params = pkl.load(open(\"fasionmnist_mlp_params.pkl\", \"rb\"))\n",
        "res = numpy_mlp(img.reshape(1, 784),\n",
        "                mlp_params[\"w0\"],\n",
        "                mlp_params[\"b0\"],\n",
        "                mlp_params[\"w1\"],\n",
        "                mlp_params[\"b1\"])\n",
        "print(res)\n",
        "pred_kind = res.argmax(axis=1)\n",
        "print(pred_kind)\n",
        "print(\"NumPy-MLP Prediction:\", class_names[pred_kind[0]])"
      ]
    },
    {
      "cell_type": "code",
      "execution_count": 22,
      "metadata": {
        "colab": {
          "base_uri": "https://localhost:8080/"
        },
        "id": "FDVi_I4KJl55",
        "outputId": "58f83b7b-0249-4b01-e775-dcfc57a3f02d"
      },
      "outputs": [
        {
          "name": "stdout",
          "output_type": "stream",
          "text": [
            "Low-level Numpy MLP Prediction: Sneaker\n"
          ]
        }
      ],
      "source": [
        "# 2.low-level numpy 实现\n",
        "def lnumpy_linear0(X: np.ndarray, W: np.ndarray, B: np.ndarray, Z: np.ndarray):\n",
        "    Y = np.empty((1, 128), dtype=\"float32\")\n",
        "    for i in range(1):\n",
        "        for j in range(128):\n",
        "            for k in range(784):\n",
        "                if k == 0:\n",
        "                    Y[i, j] = 0\n",
        "                Y[i, j] = Y[i, j] + X[i, k] * W[j, k]\n",
        "\n",
        "    for i in range(1):\n",
        "        for j in range(128):\n",
        "            Z[i, j] = Y[i, j] + B[j]\n",
        "\n",
        "\n",
        "def lnumpy_relu0(X: np.ndarray, Y: np.ndarray):\n",
        "     for i in range(1):\n",
        "        for j in range(128):\n",
        "            Y[i, j] = np.maximum(X[i, j], 0)\n",
        "\n",
        "def lnumpy_linear1(X: np.ndarray, W: np.ndarray, B: np.ndarray, Z: np.ndarray):\n",
        "    Y = np.empty((1, 10), dtype=\"float32\")\n",
        "    for i in range(1):\n",
        "        for j in range(10):\n",
        "            for k in range(128):\n",
        "                if k == 0:\n",
        "                    Y[i, j] = 0\n",
        "                Y[i, j] = Y[i, j] + X[i, k] * W[j, k]\n",
        "\n",
        "    for i in range(1):\n",
        "        for j in range(10):\n",
        "            Z[i, j] = Y[i, j] + B[j]\n",
        "\n",
        "\n",
        "def lnumpy_mlp(data, w0, b0, w1, b1):\n",
        "    lv0 = np.empty((1, 128), dtype=\"float32\")\n",
        "    lnumpy_linear0(data, w0, b0, lv0)\n",
        "\n",
        "    lv1 = np.empty((1, 128), dtype=\"float32\")\n",
        "    lnumpy_relu0(lv0, lv1)\n",
        "\n",
        "    out = np.empty((1, 10), dtype=\"float32\")\n",
        "    lnumpy_linear1(lv1, w1, b1, out)\n",
        "    return out\n",
        "\n",
        "result =lnumpy_mlp(\n",
        "    img.reshape(1, 784),\n",
        "    mlp_params[\"w0\"],\n",
        "    mlp_params[\"b0\"],\n",
        "    mlp_params[\"w1\"],\n",
        "    mlp_params[\"b1\"])\n",
        "\n",
        "pred_kind = result.argmax(axis=1)\n",
        "print(\"Low-level Numpy MLP Prediction:\", class_names[pred_kind[0]])"
      ]
    },
    {
      "cell_type": "markdown",
      "metadata": {
        "id": "o6hl9dZuJ4Pc"
      },
      "source": [
        "### 在TVMScript中构建端到端IRModule\n",
        "- 参考Numpy代码，用MLC抽象实现端到端模型运行\n",
        "\n",
        "- R.function 为relax函数。relax函数是一种表示上层神经网络执行的全新抽象"
      ]
    },
    {
      "cell_type": "code",
      "execution_count": 23,
      "metadata": {
        "id": "ugBQOYSFKB2B"
      },
      "outputs": [],
      "source": [
        "@tvm.script.ir_module\n",
        "class MyModule:\n",
        "    @T.prim_func\n",
        "    def relu0(X: T.Buffer[(1, 128), \"float32\"],\n",
        "              Y: T.Buffer[(1, 128), \"float32\"]):\n",
        "        # function attr dict\n",
        "        T.func_attr({\"global_symbol\": \"relu0\", \"tir.noalias\": True})\n",
        "        for i, j in T.grid(1, 128):\n",
        "            with T.block(\"Y\"):\n",
        "                vi, vj = T.axis.remap(\"SS\", [i, j])\n",
        "                Y[vi, vj] = T.max(X[vi, vj], T.float32(0))\n",
        "\n",
        "    @T.prim_func\n",
        "    def linear0(X: T.Buffer[(1, 784), \"float32\"],\n",
        "                W: T.Buffer[(128, 784), \"float32\"],\n",
        "                B: T.Buffer[(128,), \"float32\"],\n",
        "                Z: T.Buffer[(1, 128), \"float32\"]):\n",
        "        T.func_attr({\"global_symbol\": \"linear0\", \"tir.noalias\": True})\n",
        "        Y = T.alloc_buffer((1, 128), \"float32\")\n",
        "        for i, j, k in T.grid(1, 128, 784):\n",
        "            with T.block(\"Y\"):\n",
        "                vi, vj, vk = T.axis.remap(\"SSR\", [i, j, k])\n",
        "                with T.init():\n",
        "                    Y[vi, vj] = T.float32(0)\n",
        "                Y[vi, vj] = Y[vi, vj] + X[vi, vk] * W[vj, vk]\n",
        "\n",
        "        for i, j in T.grid(1, 128):\n",
        "            with T.block(\"Z\"):\n",
        "                vi, vj = T.axis.remap(\"SS\", [i, j])\n",
        "                Z[vi, vj] =  Y[vi, vj] + B[vj]\n",
        "\n",
        "    @T.prim_func\n",
        "    def linear1(X: T.Buffer[(1, 128), \"float32\"],\n",
        "                W: T.Buffer[(10, 128), \"float32\"],\n",
        "                B: T.Buffer[(10,), \"float32\"],\n",
        "                Z: T.Buffer[(1, 10), \"float32\"]):\n",
        "        T.func_attr({\"global_symbol\": \"linear1\", \"tir.noalias\": True})\n",
        "        Y = T.alloc_buffer((1, 10), \"float32\")\n",
        "        for i, j, k in T.grid(1, 10, 128):\n",
        "            with T.block(\"Y\"):\n",
        "                vi, vj, vk = T.axis.remap(\"SSR\", [i, j, k])\n",
        "                with T.init():\n",
        "                    Y[vi, vj] = T.float32(0)\n",
        "                Y[vi, vj] = Y[vi, vj] + X[vi, vk] * W[vj, vk]\n",
        "\n",
        "        for i, j in T.grid(1, 10):\n",
        "            with T.block(\"Z\"):\n",
        "                vi, vj = T.axis.remap(\"SS\", [i, j])\n",
        "                Z[vi, vj] = Y[vi, vj] + B[vj]\n",
        "\n",
        "    @R.function\n",
        "    def main(x: Tensor((1, 784), \"float32\"),\n",
        "             w0: Tensor((128, 784), \"float32\"),\n",
        "             b0: Tensor((128,), \"float32\"),\n",
        "             w1: Tensor((10, 128), \"float32\"),\n",
        "             b1: Tensor((10,), \"float32\")):\n",
        "        with R.dataflow():\n",
        "            lv0 = R.call_tir(linear0, (x, w0, b0), (1, 128), dtype=\"float32\")\n",
        "            lv1 = R.call_tir(relu0, (lv0,), (1, 128), dtype=\"float32\")\n",
        "            out = R.call_tir(linear1, (lv1, w1, b1), (1, 10), dtype=\"float32\")\n",
        "            R.output(out)\n",
        "        return out\n",
        "# print(MyModule.script())"
      ]
    },
    {
      "cell_type": "markdown",
      "metadata": {
        "id": "SLesjqyDPMea"
      },
      "source": [
        "- 使用计算图来可视化高层模型执行\n",
        "  - 图中的框表示计算操作\n",
        "  - 箭头对应于中间张量的输入输出\n",
        "\n",
        "- 计算图通常具有的特性：\n",
        "  - 框的每个输入边对应操作的输入\n",
        "  - 每个出边对应于操作的输出\n",
        "  - 每个操作可以任意重新排序，直到边缘的拓扑排序\n",
        "\n",
        "- call_tir\n",
        "  - R.call_tir是引入元张量函数的过程。\n",
        "  - 将输入(n)和输出(1)传递给prim_func。 执行prim_func后，结果会填充到输出中。\n",
        "  - 目标传递风格：\n",
        "    - 输入和输出在外部显式分配并传递给底层函数，常用于底层库设计，便于高层框架处理内存分配决策。\n",
        "    - 适用于<font color=red>输出固定</font>的张量操作。\n",
        "  - 对于计算图的特性来说\n",
        "    - 我们要隐藏可能的分配或对函数的显式写入，及pure或side-effect free。\n",
        "    - 如果一个函数只从其输入中读取并通过其输出返回结果，它不会改变程序的其他部分（例如递增全局计数器），那么它是pure或side-effect free的。\n",
        "    - call_tir使我们能隐藏调用低层元函数细节，并将它们应用到计算图中。\n",
        "\n",
        "- 实际上，最底层的实现会有显式的内存分配，所以call_tir主要是为了让我们在生成实际实现之前继续做一些高层的转换。"
      ]
    },
    {
      "cell_type": "code",
      "execution_count": 24,
      "metadata": {
        "colab": {
          "base_uri": "https://localhost:8080/"
        },
        "id": "Feu6B93P2NCg",
        "outputId": "448204c9-2a46-4d01-e9fe-a0db497a5bd0"
      },
      "outputs": [
        {
          "name": "stdout",
          "output_type": "stream",
          "text": [
            "Low-level Numpy with CallTIR Prediction: Sneaker\n"
          ]
        }
      ],
      "source": [
        "# 与之相对应的low-level numpy实现\n",
        "def lnumpy_call_tir(prim_func, inputs, shape, dtype):\n",
        "    res = np.empty(shape, dtype=dtype)\n",
        "    prim_func(*inputs, res)\n",
        "    return res\n",
        "\n",
        "def lnumpy_mlp_with_call_tir(data, w0, b0, w1, b1):\n",
        "    lv0 = lnumpy_call_tir(lnumpy_linear0, (data, w0, b0), (1, 128), dtype=\"float32\")\n",
        "    lv1 = lnumpy_call_tir(lnumpy_relu0, (lv0, ), (1, 128), dtype=\"float32\")\n",
        "    out = lnumpy_call_tir(lnumpy_linear1, (lv1, w1, b1), (1, 10), dtype=\"float32\")\n",
        "    return out\n",
        "\n",
        "result = lnumpy_mlp_with_call_tir(\n",
        "    img.reshape(1, 784),\n",
        "    mlp_params[\"w0\"],\n",
        "    mlp_params[\"b0\"],\n",
        "    mlp_params[\"w1\"],\n",
        "    mlp_params[\"b1\"])\n",
        "\n",
        "pred_kind = np.argmax(result, axis=1)\n",
        "print(\"Low-level Numpy with CallTIR Prediction:\", class_names[pred_kind[0]])"
      ]
    },
    {
      "cell_type": "markdown",
      "metadata": {
        "id": "HawA4dqw3Fei"
      },
      "source": [
        "- Dataflow Block\n",
        "  - R.dataflow() 范围标注，是用来标记程序计算图区域的一种方式\n",
        "  - 在dataflow block中，所有操作都需要side-effect free；而dataflow block外，操作可能包含side-effect。\n",
        "    - 例如在R.dataflow()前用R.alloc_tensor创建一个张量，这个张量可以与main的参数张量一同使用。\n",
        "    - 本课的大部分课程只会处理计算图。"
      ]
    },
    {
      "cell_type": "markdown",
      "metadata": {
        "id": "HrQ6WBmy6vab"
      },
      "source": [
        "## 构建并运行模型\n",
        "！注意：relax仍在开发中，因此某些API可能会更改\n",
        "- 使用relax.vm.build构建该函数\n",
        "  - 构建一个“可执行文件”。区别于传统操作系统中的可执行文件，不能直接在系统中运行，而是针对Relax VM设计的一种文件格式。"
      ]
    },
    {
      "cell_type": "code",
      "execution_count": 25,
      "metadata": {
        "colab": {
          "base_uri": "https://localhost:8080/"
        },
        "id": "h-kYkk6R6yzB",
        "outputId": "a8d532a1-3f08-46fd-d860-d198750ab1c9"
      },
      "outputs": [
        {
          "name": "stdout",
          "output_type": "stream",
          "text": [
            "<class 'tvm.relax.vm.Executable'>\n",
            "[[-18.002035  -26.690985  -14.8559885 -17.64491   -21.919956   -3.1951506\n",
            "  -18.476469   17.237574   -0.731666  -11.115719 ]]\n"
          ]
        }
      ],
      "source": [
        "# 使用realx.vm.build构建一个可执行文件\n",
        "ex = relax.vm.build(MyModule, target=\"llvm\")\n",
        "print(type(ex))\n",
        "\n",
        "# 初始化一个虚拟机执行器，用来运行该函数\n",
        "vm = relax.VirtualMachine(ex, tvm.cpu())  # tvm.cpu()指示我们要在哪个设备上运行端到端执行。\n",
        "\n",
        "# 运行\n",
        "data_nd = tvm.nd.array(img.reshape(1, 784))\n",
        "nd_params = {k: tvm.nd.array(v) for k, v in mlp_params.items()}\n",
        "\n",
        "nd_res = vm[\"main\"](data_nd,\n",
        "                    nd_params[\"w0\"],\n",
        "                    nd_params[\"b0\"],\n",
        "                    nd_params[\"w1\"],\n",
        "                    nd_params[\"b1\"])\n",
        "print(nd_res)"
      ]
    },
    {
      "cell_type": "code",
      "execution_count": 26,
      "metadata": {
        "colab": {
          "base_uri": "https://localhost:8080/"
        },
        "id": "OwFlgQq28Syl",
        "outputId": "eb3b1b4d-6bd7-4971-e3ac-0c954ca27b42"
      },
      "outputs": [
        {
          "name": "stdout",
          "output_type": "stream",
          "text": [
            "MyModule Prediction: Sneaker\n"
          ]
        }
      ],
      "source": [
        "# 将结果转成numpy数组，并调用argmax获取类标签。\n",
        "pred_kind = np.argmax(nd_res.numpy(), axis=1)\n",
        "print(\"MyModule Prediction:\", class_names[pred_kind[0]])"
      ]
    },
    {
      "cell_type": "markdown",
      "metadata": {
        "id": "jNcRslC68qFH"
      },
      "source": [
        "## 在环境中集成现有运行库\n",
        "将现有的库函数集成到 MLC 过程中"
      ]
    },
    {
      "cell_type": "code",
      "execution_count": 27,
      "metadata": {
        "id": "V_l0qq_D99iq"
      },
      "outputs": [],
      "source": [
        "@tvm.script.ir_module\n",
        "class MyModuleWithExternCall:\n",
        "    @R.function\n",
        "    def main(x: Tensor((1, 784), \"float32\"),\n",
        "             w0: Tensor((128, 784), \"float32\"),\n",
        "             b0: Tensor((128,), \"float32\"),\n",
        "             w1: Tensor((10, 128), \"float32\"),\n",
        "             b1: Tensor((10,), \"float32\")):\n",
        "        # block 0\n",
        "        with R.dataflow():\n",
        "            lv0 = R.call_tir(\"env.linear\", (x, w0, b0), (1, 128), dtype=\"float32\")\n",
        "            lv1 = R.call_tir(\"env.relu\", (lv0,), (1, 128), dtype=\"float32\")\n",
        "            out = R.call_tir(\"env.linear\", (lv1, w1, b1), (1, 10), dtype=\"float32\")\n",
        "            R.output(out)\n",
        "        return out"
      ]
    },
    {
      "cell_type": "markdown",
      "metadata": {
        "id": "BExOzu9HMkfY"
      },
      "source": [
        "### 注册运行时函数\n",
        "- DLPack 是一种通用的交换标准，允许不同的框架交换 Tensor/NDArray 而无需参与数据复制。\n",
        "\n",
        "- from_dlpack 是一个零拷贝转换，torch阵列和TVM NDArray共享底层内存。\n",
        "\n",
        "- from_dlpack API 由多个框架支持，是 Python 数组 API 标准的一部分。 如果您有兴趣，可以阅读更多 [这里](https://dmlc.github.io/dlpack/latest/python_spec.html)。"
      ]
    },
    {
      "cell_type": "code",
      "execution_count": 28,
      "metadata": {
        "id": "Fil0bHsEKDKR"
      },
      "outputs": [],
      "source": [
        "@tvm.register_func(\"env.linear\", override=True)\n",
        "def torch_linear(x: tvm.nd.NDArray,\n",
        "                 w: tvm.nd.NDArray,\n",
        "                 b: tvm.nd.NDArray,\n",
        "                 out: tvm.nd.NDArray):\n",
        "    x_torch = torch.from_dlpack(x)\n",
        "    w_torch = torch.from_dlpack(w)\n",
        "    b_torch = torch.from_dlpack(b)\n",
        "    out_torch = torch.from_dlpack(out)\n",
        "    torch.mm(x_torch, w_torch.T, out=out_torch)\n",
        "    torch.add(out_torch, b_torch, out=out_torch)\n",
        "\n",
        "@tvm.register_func(\"env.relu\", override=True)\n",
        "def lnumpy_relu(x: tvm.nd.NDArray,\n",
        "                out: tvm.nd.NDArray):\n",
        "    x_torch = torch.from_dlpack(x)\n",
        "    out_torch = torch.from_dlpack(out)\n",
        "    torch.maximum(x_torch, torch.Tensor([0.0]), out=out_torch)"
      ]
    },
    {
      "cell_type": "markdown",
      "metadata": {
        "id": "DLVXSUr9OMHo"
      },
      "source": [
        "### build and run"
      ]
    },
    {
      "cell_type": "code",
      "execution_count": 29,
      "metadata": {
        "colab": {
          "base_uri": "https://localhost:8080/"
        },
        "id": "LeJgu3pmOJe6",
        "outputId": "03f8c657-de6e-42bf-ce90-1bf25f9278c6"
      },
      "outputs": [
        {
          "name": "stdout",
          "output_type": "stream",
          "text": [
            "MyModuleWithExternCall Prediction: Sneaker\n"
          ]
        }
      ],
      "source": [
        "ex = relax.vm.build(MyModuleWithExternCall, target=\"llvm\")\n",
        "vm = relax.VirtualMachine(ex, tvm.cpu())\n",
        "\n",
        "nd_res = vm[\"main\"](data_nd,\n",
        "                    nd_params[\"w0\"],\n",
        "                    nd_params[\"b0\"],\n",
        "                    nd_params[\"w1\"],\n",
        "                    nd_params[\"b1\"])\n",
        "\n",
        "pred_kind = np.argmax(nd_res.numpy(), axis=1)\n",
        "print(\"MyModuleWithExternCall Prediction:\", class_names[pred_kind[0]])"
      ]
    },
    {
      "cell_type": "markdown",
      "metadata": {
        "id": "zkWqxHjOOkWS"
      },
      "source": [
        "### 混合起来(TensorIR实现和库实现)"
      ]
    },
    {
      "cell_type": "code",
      "execution_count": 30,
      "metadata": {
        "colab": {
          "base_uri": "https://localhost:8080/"
        },
        "id": "z-wtBHjbOsCW",
        "outputId": "059eb38b-3bda-4a67-a36f-3a12beb9178d"
      },
      "outputs": [
        {
          "name": "stdout",
          "output_type": "stream",
          "text": [
            "MyModuleMixture Prediction: Sneaker\n"
          ]
        }
      ],
      "source": [
        "@tvm.script.ir_module\n",
        "class MyModuleMixture:\n",
        "    @T.prim_func\n",
        "    def linear0(X: T.Buffer[(1, 784), \"float32\"],\n",
        "                W: T.Buffer[(128, 784), \"float32\"],\n",
        "                B: T.Buffer[(128,), \"float32\"],\n",
        "                Z: T.Buffer[(1, 128), \"float32\"]):\n",
        "        T.func_attr({\"global_symbol\": \"linear0\", \"tir.noalias\": True})\n",
        "        Y = T.alloc_buffer((1, 128), \"float32\")\n",
        "        for i, j, k in T.grid(1, 128, 784):\n",
        "            with T.block(\"Y\"):\n",
        "                vi, vj, vk = T.axis.remap(\"SSR\", [i, j, k])\n",
        "                with T.init():\n",
        "                    Y[vi, vj] = T.float32(0)\n",
        "                Y[vi, vj] = Y[vi, vj] + X[vi, vk] * W[vj, vk]\n",
        "\n",
        "        for i, j in T.grid(1, 128):\n",
        "            with T.block(\"Z\"):\n",
        "                vi, vj = T.axis.remap(\"SS\", [i, j])\n",
        "                Z[vi, vj] =  Y[vi, vj] + B[vj]\n",
        "\n",
        "    @R.function\n",
        "    def main(x: Tensor((1, 784), \"float32\"),\n",
        "             w0: Tensor((128, 784), \"float32\"),\n",
        "             b0: Tensor((128,), \"float32\"),\n",
        "             w1: Tensor((10, 128), \"float32\"),\n",
        "             b1: Tensor((10,), \"float32\")):\n",
        "        with R.dataflow():\n",
        "            lv0 = R.call_tir(linear0, (x, w0, b0), (1, 128), dtype=\"float32\")\n",
        "            lv1 = R.call_tir(\"env.relu\", (lv0,), (1, 128), dtype=\"float32\")\n",
        "            out = R.call_tir(\"env.linear\", (lv1, w1, b1), (1, 10), dtype=\"float32\")\n",
        "            R.output(out)\n",
        "        return out\n",
        "\n",
        "ex = relax.vm.build(MyModuleMixture, target=\"llvm\")\n",
        "vm = relax.VirtualMachine(ex, tvm.cpu())\n",
        "\n",
        "nd_res = vm[\"main\"](data_nd,\n",
        "                    nd_params[\"w0\"],\n",
        "                    nd_params[\"b0\"],\n",
        "                    nd_params[\"w1\"],\n",
        "                    nd_params[\"b1\"])\n",
        "\n",
        "pred_kind = np.argmax(nd_res.numpy(), axis=1)\n",
        "print(\"MyModuleMixture Prediction:\", class_names[pred_kind[0]])"
      ]
    },
    {
      "cell_type": "markdown",
      "metadata": {
        "id": "BoZGZXgsTgd2"
      },
      "source": [
        "## 参数绑定到IRModule\n",
        "之前的示例中，通过显式传递参数来构造主函数。将参数绑定为附加到IRModule的常量会降低API的复杂度。\n"
      ]
    },
    {
      "cell_type": "code",
      "execution_count": 33,
      "metadata": {
        "colab": {
          "base_uri": "https://localhost:8080/"
        },
        "id": "HXBTZsrQUDYA",
        "outputId": "0aedb71e-a60e-43cb-d827-c029103acfc4"
      },
      "outputs": [
        {
          "name": "stdout",
          "output_type": "stream",
          "text": [
            "@tvm.script.ir_module\n",
            "class Module:\n",
            "    @R.function\n",
            "    def main(x: Tensor((1, 784), \"float32\")) -> Tensor(None, \"float32\", ndim = 2):\n",
            "        # block 0\n",
            "        with R.dataflow():\n",
            "            lv0 = R.call_tir(linear0, (x, meta[relay.Constant][0], meta[relay.Constant][1]), (1, 128), dtype=\"float32\")\n",
            "            lv1 = R.call_tir(\"env.relu\", (lv0,), (1, 128), dtype=\"float32\")\n",
            "            out = R.call_tir(\"env.linear\", (lv1, meta[relay.Constant][2], meta[relay.Constant][3]), (1, 10), dtype=\"float32\")\n",
            "            R.output(out)\n",
            "        return out\n",
            "    \n",
            "    @T.prim_func\n",
            "    def linear0(X: T.Buffer[(1, 784), \"float32\"], W: T.Buffer[(128, 784), \"float32\"], B: T.Buffer[128, \"float32\"], Z: T.Buffer[(1, 128), \"float32\"]) -> None:\n",
            "        # function attr dict\n",
            "        T.func_attr({\"global_symbol\": \"linear0\", \"tir.noalias\": True})\n",
            "        # body\n",
            "        # with T.block(\"root\")\n",
            "        Y = T.alloc_buffer([1, 128], dtype=\"float32\")\n",
            "        for i, j, k in T.grid(1, 128, 784):\n",
            "            with T.block(\"Y\"):\n",
            "                vi, vj, vk = T.axis.remap(\"SSR\", [i, j, k])\n",
            "                T.reads(X[vi, vk], W[vj, vk])\n",
            "                T.writes(Y[vi, vj])\n",
            "                with T.init():\n",
            "                    Y[vi, vj] = T.float32(0)\n",
            "                Y[vi, vj] = Y[vi, vj] + X[vi, vk] * W[vj, vk]\n",
            "        for i, j in T.grid(1, 128):\n",
            "            with T.block(\"Z\"):\n",
            "                vi, vj = T.axis.remap(\"SS\", [i, j])\n",
            "                T.reads(Y[vi, vj], B[vj])\n",
            "                T.writes(Z[vi, vj])\n",
            "                Z[vi, vj] = Y[vi, vj] + B[vj]\n",
            "    \n"
          ]
        }
      ],
      "source": [
        "# 以下代码通过将参数名称与 nd_params 中的键匹配来创建绑定。\n",
        "MyModuleWithParams = relax.transform.BindParams(\"main\", nd_params)(MyModuleMixture)\n",
        "print(MyModuleWithParams.script())\n",
        "# IPython.display.Code(MyModuleWithParams.script(), language=\"python\")"
      ]
    },
    {
      "cell_type": "markdown",
      "metadata": {
        "id": "FG8yfCiJUSkz"
      },
      "source": [
        "在上面的脚本中，meta[relay.Constant][0] （译者注：目前 Relax 的常量表达依然继承自 Relay ，未来该 API 可能会更改） 对应于一个存储常量的隐式字典（它没有显示为脚本的一部分，但仍然是 IRModule 的一部分）。 如果我们构建转换后的 IRModule，我们现在可以通过传入输入数据来调用该函数。"
      ]
    },
    {
      "cell_type": "code",
      "execution_count": 34,
      "metadata": {
        "colab": {
          "base_uri": "https://localhost:8080/"
        },
        "id": "pcVIc-CIUY0c",
        "outputId": "58ed71ce-acfb-41d4-c01e-5ab766ff7801"
      },
      "outputs": [
        {
          "name": "stdout",
          "output_type": "stream",
          "text": [
            "MyModuleWithParams Prediction: Sneaker\n"
          ]
        }
      ],
      "source": [
        "ex = relax.vm.build(MyModuleWithParams, target=\"llvm\")\n",
        "vm = relax.VirtualMachine(ex, tvm.cpu())\n",
        "\n",
        "nd_res = vm[\"main\"](data_nd)\n",
        "\n",
        "pred_kind = np.argmax(nd_res.numpy(), axis=1)\n",
        "print(\"MyModuleWithParams Prediction:\", class_names[pred_kind[0]])"
      ]
    }
  ],
  "metadata": {
    "colab": {
      "collapsed_sections": [
        "GPS1VfL4mHpc",
        "o6hl9dZuJ4Pc"
      ],
      "name": "Untitled0.ipynb",
      "provenance": [],
      "toc_visible": true
    },
    "kernelspec": {
      "display_name": "Python 3.8.10 ('base': conda)",
      "language": "python",
      "name": "python3"
    },
    "language_info": {
      "name": "python",
      "version": "3.8.10"
    },
    "vscode": {
      "interpreter": {
        "hash": "2f394aca7ca06fed1e6064aef884364492d7cdda3614a461e02e6407fc40ba69"
      }
    }
  },
  "nbformat": 4,
  "nbformat_minor": 0
}
